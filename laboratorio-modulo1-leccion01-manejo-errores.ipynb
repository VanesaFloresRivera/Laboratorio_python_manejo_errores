{
 "cells": [
  {
   "cell_type": "markdown",
   "metadata": {},
   "source": [
    "\n",
    "<div style=\"text-align: center;\">\n",
    "  <img src=\"https://github.com/Hack-io-Data/Imagenes/blob/main/01-LogosHackio/logo_celeste@4x.png?raw=true\" alt=\"esquema\" />\n",
    "</div>\n"
   ]
  },
  {
   "cell_type": "markdown",
   "metadata": {},
   "source": [
    "# Laboratorio de Python: manejo de errores."
   ]
  },
  {
   "cell_type": "markdown",
   "metadata": {},
   "source": [
    "## Ejercicio 1: División con manejo de excepciones\n",
    "\n",
    "Escribe un programa que pida al usuario dos números e intente dividirlos. Si el usuario ingresa un valor no numérico o intenta dividir por cero, maneja esas excepciones de manera adecuada. Asegúrate de mostrar un mensaje indicando si la división fue exitosa o no.\n"
   ]
  },
  {
   "cell_type": "code",
   "execution_count": 8,
   "metadata": {},
   "outputs": [
    {
     "name": "stdout",
     "output_type": "stream",
     "text": [
      "0.5\n",
      "El resultado de la división es 0.5\n",
      "La división ha sido exitosa\n"
     ]
    }
   ],
   "source": [
    "num_1=input(\"Ingrese el primer número\")\n",
    "num_2=input(\"Ingrese el segundo número\")\n",
    "\n",
    "try:\n",
    "    num_1_float=float(num_1)\n",
    "    num_2_float=float(num_2)    \n",
    "    resultado_division= num_1_float/num_2_float\n",
    "    print(resultado_division)\n",
    "    print(f'El resultado de la división es {resultado_division}')\n",
    "    print(\"La división ha sido exitosa\")\n",
    "except ValueError:\n",
    "    print(f'El valor introducido no es válido')\n",
    "    print(\"La división no ha sido exitosa\")\n",
    "except ZeroDivisionError:\n",
    "    print(f'No se puede dividir por 0')\n",
    "    print(\"La división no ha sido exitosa\")       \n"
   ]
  },
  {
   "cell_type": "markdown",
   "metadata": {},
   "source": [
    "## Ejercicio 2: Acceso a archivos\n",
    "\n",
    "Escribe un programa que intente abrir un archivo llamado \"datos.txt\". Si el archivo no existe, captura la excepción y muestra un mensaje de error. Asegúrate de cerrar el archivo correctamente en la sección `finally`.\n"
   ]
  },
  {
   "cell_type": "code",
   "execution_count": 16,
   "metadata": {},
   "outputs": [
    {
     "name": "stdout",
     "output_type": "stream",
     "text": [
      "El archivo texto.txt no existe\n"
     ]
    }
   ],
   "source": [
    "fichero = input(\"Por favor ingrese el nombre del fichero con su extensión\")\n",
    "\n",
    "try:\n",
    "    f = open(fichero, 'r+')\n",
    "    contenido  = f.read()\n",
    "    print(f'Se ha encontrado el fichero \"{fichero}'' y su contenido es:')\n",
    "    print(contenido)\n",
    "except FileNotFoundError:\n",
    "    print(f'El archivo {fichero} no existe')\n",
    "finally:\n",
    "    f.close()  \n"
   ]
  },
  {
   "cell_type": "markdown",
   "metadata": {},
   "source": [
    "## Ejercicio 3: Conversión de cadenas a enteros\n",
    "\n",
    "Escribe un programa que pida una lista de números separados por comas y convierta cada valor a un número entero. Maneja las excepciones para valores que no sean convertibles y asegúrate de informar si la conversión fue exitosa o no.\n"
   ]
  },
  {
   "cell_type": "code",
   "execution_count": null,
   "metadata": {},
   "outputs": [
    {
     "name": "stdout",
     "output_type": "stream",
     "text": [
      "el valor a no se puede convertir a entero\n",
      " los valores introducidos son 10,5.5,8,a\n",
      " la lista de numeros enteros es [10, 5, 8]\n",
      "Algún elemento no se ha podido convertir a entero, la conversión no ha sido exitosa en su totalidad\n"
     ]
    }
   ],
   "source": [
    "lista_usuario = input(\"Ingresa una lista de números separados por comas\")\n",
    "#print(lista_usuario)\n",
    "#print(type(lista_usuario))\n",
    "lista_usuario_convertida = lista_usuario.split(\",\")\n",
    "#print(lista_usuario_convertida)\n",
    "lista_usuario_enteros = []\n",
    "for elemento in lista_usuario_convertida:\n",
    "    try:\n",
    "        lista_usuario_enteros.append(int(float(elemento)))\n",
    "    except ValueError:\n",
    "        print(f'El valor {elemento} no se puede convertir a entero')\n",
    "        continue\n",
    "print(f'Los valores introducidos son {lista_usuario}')\n",
    "print(f'La lista de numeros enteros es {lista_usuario_enteros}')\n",
    "if len(lista_usuario_convertida) == len(lista_usuario_enteros):\n",
    "    print('Todos los elementos introducidos se han convertido a enteros, la conversión fue exitosa')\n",
    "else:\n",
    "    print(f'Algún elemento no se ha podido convertir a entero, la conversión no ha sido exitosa en su totalidad')\n",
    "#print(type(lista_usuario_enteros[0]))\n",
    "\n"
   ]
  },
  {
   "cell_type": "code",
   "execution_count": 20,
   "metadata": {},
   "outputs": [
    {
     "name": "stdout",
     "output_type": "stream",
     "text": [
      "El valor entero del indice 0 de la lista introducida es 10\n",
      "La conversión fue exitosa\n",
      "El valor entero del indice 1 de la lista introducida es 5\n",
      "La conversión fue exitosa\n",
      "El valor entero del indice 2 de la lista introducida es 8\n",
      "La conversión fue exitosa\n"
     ]
    }
   ],
   "source": [
    "lista_usuario = input(\"Ingresa una lista de números separados por comas\")\n",
    "#print(lista_usuario)\n",
    "#print(type(lista_usuario))\n",
    "lista_usuario_convertida = lista_usuario.split(\",\")\n",
    "#print(lista_usuario_convertida)\n",
    "for indice,elemento in enumerate(lista_usuario_convertida):\n",
    "    try:\n",
    "        numero_entero=int(float(elemento))\n",
    "        print(f'El valor entero del indice {indice} de la lista introducida es {numero_entero}')\n",
    "        print('La conversión fue exitosa')\n",
    "    except ValueError:\n",
    "        print(f'el valor {elemento} del indice {indice} de la lista introducida no se puede convertir a entero')\n",
    "        print(f'La conversión no ha sido exitosa')\n"
   ]
  },
  {
   "cell_type": "markdown",
   "metadata": {},
   "source": [
    "#### Ejercicio 4: Cálculo del promedio con manejo de excepciones\n",
    "\n",
    "Escribe una función que reciba una lista de números y calcule su promedio. Si la lista está vacía, lanza una excepción personalizada y maneja el error adecuadamente.\n"
   ]
  },
  {
   "cell_type": "code",
   "execution_count": 53,
   "metadata": {},
   "outputs": [
    {
     "name": "stdout",
     "output_type": "stream",
     "text": [
      "No se puede calcular el promedio de una lista vacía\n"
     ]
    }
   ],
   "source": [
    "lista_numeros = [10, 5]\n",
    "\n",
    "def calculo_media (lista_numeros):\n",
    "    suma_num = 0\n",
    "    for numero in lista_numeros:\n",
    "        suma_num +=numero\n",
    "    try:\n",
    "        promedio = suma_num/len(lista_numeros)\n",
    "        print(f'El promedio de la lista introducida es {promedio}')\n",
    "        return promedio\n",
    "    except ZeroDivisionError:\n",
    "        print(f'No se puede calcular el promedio de una lista vacía')\n",
    "    \n",
    "    \n",
    "calculo_media([])"
   ]
  },
  {
   "cell_type": "markdown",
   "metadata": {},
   "source": [
    "#### Ejercicio 5: Conversión segura de números\n",
    "\n",
    "Escribe un programa que convierta una cadena a número flotante e intente realizar una operación aritmética. Si la conversión falla, maneja la excepción y continúa con el flujo normal."
   ]
  },
  {
   "cell_type": "code",
   "execution_count": 71,
   "metadata": {},
   "outputs": [
    {
     "name": "stdout",
     "output_type": "stream",
     "text": [
      "los valores introducidos son ['10', '5', 'a', '9']\n",
      "La suma de los elementos es 24.0\n"
     ]
    }
   ],
   "source": [
    "cadena_usuario = input(\"Ingresa una lista de números separados por comas\")\n",
    "#print(cadena_usuario)\n",
    "#print(type(cadena_usuario))\n",
    "cadena_usuario_convertida = cadena_usuario.split(\",\")\n",
    "#print(cadena_usuario_convertida)\n",
    "#print(cadena_usuario_convertida)\n",
    "suma_elementos_cadena = 0\n",
    "for elemento in cadena_usuario_convertida:\n",
    "    try:    \n",
    "        suma_elementos_cadena +=float(elemento)\n",
    "    except ValueError:\n",
    "        continue\n",
    "print(f'los valores introducidos son {cadena_usuario_convertida}')\n",
    "print(f'La suma de los elementos es {suma_elementos_cadena}')\n"
   ]
  },
  {
   "cell_type": "markdown",
   "metadata": {},
   "source": [
    "#### Ejercicio 6: Acceso a claves en diccionarios\n",
    "\n",
    "Escribe un programa que intente acceder a una clave específica en un diccionario. Si la clave no existe, maneja la excepción `KeyError` y muestra un mensaje indicando el problema."
   ]
  },
  {
   "cell_type": "code",
   "execution_count": null,
   "metadata": {},
   "outputs": [
    {
     "name": "stdout",
     "output_type": "stream",
     "text": [
      "La clave introducida no existe en el diccionario\n"
     ]
    }
   ],
   "source": [
    "diccionario_clave={'ropa': 'Camiseta', 'comida': 'Naranja', 'bebida': 'Agua'}\n",
    "clave_usuario = input('Por favor ingresa la clave que desea buscar:').lower()\n",
    "\n",
    "try:\n",
    "    diccionario_clave[clave_usuario]\n",
    "    print(f'El valor de la clave introducida es {diccionario_clave[clave_usuario]}')\n",
    "except KeyError:\n",
    "    print('La clave introducida no existe en el diccionario')\n"
   ]
  },
  {
   "cell_type": "markdown",
   "metadata": {},
   "source": [
    "\n",
    "#### Ejercicio 7: Verificación de entradas de usuario\n",
    "\n",
    "Escribe un programa que pida al usuario que introduzca su edad. Si el usuario ingresa un valor no numérico o un valor fuera del rango esperado (por ejemplo, menor que 0 o mayor que 120), maneja las excepciones adecuadamente."
   ]
  },
  {
   "cell_type": "code",
   "execution_count": 81,
   "metadata": {},
   "outputs": [
    {
     "name": "stdout",
     "output_type": "stream",
     "text": [
      "El valor introducido no es un número\n"
     ]
    }
   ],
   "source": [
    "edad_usuario = input(\"Por favor introduzca su edad\")\n",
    "\n",
    "try:\n",
    "    edad_usuario_float=float(edad_usuario)\n",
    "    if edad_usuario_float <0 or edad_usuario_float>120:\n",
    "        print(f'La edad introducida está fuera del rango permitido')\n",
    "    else:\n",
    "        print('Felicidades por seguir vivo!!!')\n",
    "except ValueError:\n",
    "    print('El valor introducido no es un número')"
   ]
  },
  {
   "cell_type": "markdown",
   "metadata": {},
   "source": [
    "#### Ejercicio 8: Extracción de valores de una lista\n",
    "\n",
    "Escribe una función que intente acceder a un índice específico en una lista. Si el índice está fuera del rango, maneja la excepción `IndexError` y muestra un mensaje adecuado.\n"
   ]
  },
  {
   "cell_type": "code",
   "execution_count": 95,
   "metadata": {},
   "outputs": [
    {
     "name": "stdout",
     "output_type": "stream",
     "text": [
      "El índice al que quiere acceder está fuera de rango\n"
     ]
    }
   ],
   "source": [
    "lista_para_indice = [10, 8, 'Naranja', 95, 'Amarillo']\n",
    "\n",
    "try:\n",
    "    indice = int(input('Por favor ingrese el índice del elemento al que desea acceder'))\n",
    "    print(f'El elemento al que quiere acceder es {lista_para_indice[indice]}')\n",
    "except IndexError:\n",
    "    print(f'El índice al que quiere acceder está fuera de rango')\n",
    "except ValueError:\n",
    "    print(f'El índice que ha indicado no es un número válido, por favor ingrese un número entero')\n"
   ]
  }
 ],
 "metadata": {
  "kernelspec": {
   "display_name": "Python 3",
   "language": "python",
   "name": "python3"
  },
  "language_info": {
   "codemirror_mode": {
    "name": "ipython",
    "version": 3
   },
   "file_extension": ".py",
   "mimetype": "text/x-python",
   "name": "python",
   "nbconvert_exporter": "python",
   "pygments_lexer": "ipython3",
   "version": "3.12.5"
  }
 },
 "nbformat": 4,
 "nbformat_minor": 2
}
